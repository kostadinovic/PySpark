{
 "cells": [
  {
   "cell_type": "markdown",
   "metadata": {},
   "source": [
    "## PySpark TP2 : Abre de décision et forêt aléatoire\n",
    "\n",
    "#### Kostadinovic Nemanja \n",
    "\n",
    "***"
   ]
  },
  {
   "cell_type": "code",
   "execution_count": 1,
   "metadata": {},
   "outputs": [],
   "source": [
    "import numpy as np\n",
    "import pandas as pd\n",
    "import matplotlib.pyplot as plt\n",
    "\n",
    "\n",
    "from pyspark.ml.classification import DecisionTreeClassifier\n",
    "from pyspark.ml.classification import RandomForestClassifier\n",
    "from pyspark.ml.regression import LinearRegression\n",
    "\n",
    "\n",
    "from pyspark.ml.feature import StringIndexer, VectorIndexer, StandardScaler, VectorAssembler\n",
    "from pyspark.ml.evaluation import MulticlassClassificationEvaluator\n",
    "\n",
    "from pyspark.sql.functions import col"
   ]
  },
  {
   "cell_type": "markdown",
   "metadata": {},
   "source": [
    "## Exercice 1 : Arbre de décision (sample libsvm)"
   ]
  },
  {
   "cell_type": "code",
   "execution_count": 2,
   "metadata": {},
   "outputs": [],
   "source": [
    "data = spark.read.format(\"libsvm\").load('/usr/local/Cellar/apache-spark/3.0.1/libexec/data/mllib/sample_libsvm_data.txt')"
   ]
  },
  {
   "cell_type": "code",
   "execution_count": 3,
   "metadata": {},
   "outputs": [],
   "source": [
    "#data.collect()"
   ]
  },
  {
   "cell_type": "code",
   "execution_count": 4,
   "metadata": {},
   "outputs": [
    {
     "data": {
      "text/plain": [
       "pyspark.sql.dataframe.DataFrame"
      ]
     },
     "execution_count": 4,
     "metadata": {},
     "output_type": "execute_result"
    }
   ],
   "source": [
    "type(data)"
   ]
  },
  {
   "cell_type": "code",
   "execution_count": 5,
   "metadata": {},
   "outputs": [],
   "source": [
    "(training_data, test_data) = data.randomSplit([0.7, 0.3])"
   ]
  },
  {
   "cell_type": "code",
   "execution_count": 6,
   "metadata": {},
   "outputs": [],
   "source": [
    "dtree = DecisionTreeClassifier(featuresCol='features', labelCol='label', maxDepth=5, impurity='gini')"
   ]
  },
  {
   "cell_type": "code",
   "execution_count": 7,
   "metadata": {},
   "outputs": [],
   "source": [
    "model = dtree.fit(training_data)"
   ]
  },
  {
   "cell_type": "code",
   "execution_count": 8,
   "metadata": {},
   "outputs": [],
   "source": [
    "predictions = model.transform(test_data)"
   ]
  },
  {
   "cell_type": "code",
   "execution_count": 9,
   "metadata": {},
   "outputs": [
    {
     "name": "stdout",
     "output_type": "stream",
     "text": [
      "+-----+--------------------+-------------+-----------+----------+\n",
      "|label|            features|rawPrediction|probability|prediction|\n",
      "+-----+--------------------+-------------+-----------+----------+\n",
      "|  0.0|(692,[98,99,100,1...|   [33.0,0.0]|  [1.0,0.0]|       0.0|\n",
      "|  0.0|(692,[125,126,127...|   [33.0,0.0]|  [1.0,0.0]|       0.0|\n",
      "|  0.0|(692,[126,127,128...|   [33.0,0.0]|  [1.0,0.0]|       0.0|\n",
      "|  0.0|(692,[126,127,128...|   [33.0,0.0]|  [1.0,0.0]|       0.0|\n",
      "|  0.0|(692,[126,127,128...|   [33.0,0.0]|  [1.0,0.0]|       0.0|\n",
      "+-----+--------------------+-------------+-----------+----------+\n",
      "only showing top 5 rows\n",
      "\n"
     ]
    }
   ],
   "source": [
    "predictions.show(5)"
   ]
  },
  {
   "cell_type": "code",
   "execution_count": 10,
   "metadata": {},
   "outputs": [
    {
     "name": "stdout",
     "output_type": "stream",
     "text": [
      "Test Error = 6.06061\n"
     ]
    }
   ],
   "source": [
    "evaluator = MulticlassClassificationEvaluator(\n",
    "    labelCol=\"label\", predictionCol=\"prediction\", metricName=\"accuracy\")\n",
    "accuracy = evaluator.evaluate(predictions)\n",
    "print(\"Test Error = %g\" % ((1.0 - accuracy)*100))"
   ]
  },
  {
   "cell_type": "code",
   "execution_count": 11,
   "metadata": {},
   "outputs": [
    {
     "data": {
      "text/plain": [
       "<bound method Params.explainParams of DecisionTreeClassificationModel: uid=DecisionTreeClassifier_c040821ca7e1, depth=1, numNodes=3, numClasses=2, numFeatures=692>"
      ]
     },
     "execution_count": 11,
     "metadata": {},
     "output_type": "execute_result"
    }
   ],
   "source": [
    "model.explainParams"
   ]
  },
  {
   "cell_type": "code",
   "execution_count": 12,
   "metadata": {},
   "outputs": [
    {
     "data": {
      "text/plain": [
       "'DecisionTreeClassificationModel: uid=DecisionTreeClassifier_c040821ca7e1, depth=1, numNodes=3, numClasses=2, numFeatures=692\\n  If (feature 406 <= 126.5)\\n   Predict: 0.0\\n  Else (feature 406 > 126.5)\\n   Predict: 1.0\\n'"
      ]
     },
     "execution_count": 12,
     "metadata": {},
     "output_type": "execute_result"
    }
   ],
   "source": [
    "model.toDebugString"
   ]
  },
  {
   "cell_type": "markdown",
   "metadata": {},
   "source": [
    "## Exercice 2 : Arbre de décision (duke breast cancer)"
   ]
  },
  {
   "cell_type": "markdown",
   "metadata": {},
   "source": [
    "***"
   ]
  },
  {
   "cell_type": "code",
   "execution_count": 13,
   "metadata": {},
   "outputs": [],
   "source": [
    "data = spark.read.format(\"libsvm\").load('data/duke')\n",
    "(training_data, test_data) = data.randomSplit([0.7, 0.3])\n",
    "dtree = DecisionTreeClassifier(featuresCol='features', labelCol='label', maxDepth=7, impurity='gini')\n",
    "model = dtree.fit(training_data)\n",
    "predictions = model.transform(test_data)"
   ]
  },
  {
   "cell_type": "code",
   "execution_count": 14,
   "metadata": {},
   "outputs": [
    {
     "name": "stdout",
     "output_type": "stream",
     "text": [
      "+-----+--------------------+-------------+-----------+----------+\n",
      "|label|            features|rawPrediction|probability|prediction|\n",
      "+-----+--------------------+-------------+-----------+----------+\n",
      "|  0.0|(7129,[0,1,2,3,4,...|   [13.0,0.0]|  [1.0,0.0]|       0.0|\n",
      "|  0.0|(7129,[0,1,2,3,4,...|   [13.0,0.0]|  [1.0,0.0]|       0.0|\n",
      "|  0.0|(7129,[0,1,2,3,4,...|   [0.0,15.0]|  [0.0,1.0]|       1.0|\n",
      "|  0.0|(7129,[0,1,2,3,4,...|   [13.0,0.0]|  [1.0,0.0]|       0.0|\n",
      "|  0.0|(7129,[0,1,2,3,4,...|   [0.0,15.0]|  [0.0,1.0]|       1.0|\n",
      "+-----+--------------------+-------------+-----------+----------+\n",
      "only showing top 5 rows\n",
      "\n"
     ]
    }
   ],
   "source": [
    "predictions.show(5)"
   ]
  },
  {
   "cell_type": "code",
   "execution_count": 15,
   "metadata": {},
   "outputs": [
    {
     "name": "stdout",
     "output_type": "stream",
     "text": [
      "Test Error = 40\n"
     ]
    }
   ],
   "source": [
    "evaluator = MulticlassClassificationEvaluator(\n",
    "    labelCol=\"label\", predictionCol=\"prediction\", metricName=\"accuracy\")\n",
    "accuracy = evaluator.evaluate(predictions)\n",
    "print(\"Test Error = %g\" % ((1.0 - accuracy)*100))"
   ]
  },
  {
   "cell_type": "code",
   "execution_count": 16,
   "metadata": {},
   "outputs": [
    {
     "data": {
      "text/plain": [
       "'DecisionTreeClassificationModel: uid=DecisionTreeClassifier_4dcb470c90ce, depth=2, numNodes=5, numClasses=2, numFeatures=7129\\n  If (feature 2389 <= 0.0686425)\\n   Predict: 1.0\\n  Else (feature 2389 > 0.0686425)\\n   If (feature 0 <= 1.012746)\\n    Predict: 0.0\\n   Else (feature 0 > 1.012746)\\n    Predict: 1.0\\n'"
      ]
     },
     "execution_count": 16,
     "metadata": {},
     "output_type": "execute_result"
    }
   ],
   "source": [
    "model.toDebugString"
   ]
  },
  {
   "cell_type": "markdown",
   "metadata": {},
   "source": [
    "## Exercice 3 : Forêt aléatoire/RandomForest (libsvm data) "
   ]
  },
  {
   "cell_type": "code",
   "execution_count": 17,
   "metadata": {},
   "outputs": [],
   "source": [
    "data = spark.read.format(\"libsvm\").load('/usr/local/Cellar/apache-spark/3.0.1/libexec/data/mllib/sample_libsvm_data.txt')\n",
    "(training_data, test_data) = data.randomSplit([0.7, 0.3])"
   ]
  },
  {
   "cell_type": "code",
   "execution_count": 18,
   "metadata": {},
   "outputs": [],
   "source": [
    "rf = RandomForestClassifier(labelCol=\"label\", featuresCol=\"features\", numTrees=3, impurity='gini')"
   ]
  },
  {
   "cell_type": "code",
   "execution_count": 19,
   "metadata": {},
   "outputs": [],
   "source": [
    "model = rf.fit(training_data)"
   ]
  },
  {
   "cell_type": "code",
   "execution_count": 20,
   "metadata": {},
   "outputs": [],
   "source": [
    "predictions = model.transform(test_data)"
   ]
  },
  {
   "cell_type": "code",
   "execution_count": 21,
   "metadata": {},
   "outputs": [
    {
     "name": "stdout",
     "output_type": "stream",
     "text": [
      "+-----+--------------------+-------------+--------------------+----------+\n",
      "|label|            features|rawPrediction|         probability|prediction|\n",
      "+-----+--------------------+-------------+--------------------+----------+\n",
      "|  0.0|(692,[98,99,100,1...|    [3.0,0.0]|           [1.0,0.0]|       0.0|\n",
      "|  0.0|(692,[121,122,123...|    [3.0,0.0]|           [1.0,0.0]|       0.0|\n",
      "|  0.0|(692,[124,125,126...|    [3.0,0.0]|           [1.0,0.0]|       0.0|\n",
      "|  0.0|(692,[124,125,126...|    [3.0,0.0]|           [1.0,0.0]|       0.0|\n",
      "|  0.0|(692,[126,127,128...|    [2.0,1.0]|[0.66666666666666...|       0.0|\n",
      "+-----+--------------------+-------------+--------------------+----------+\n",
      "only showing top 5 rows\n",
      "\n"
     ]
    }
   ],
   "source": [
    "predictions.show(5)"
   ]
  },
  {
   "cell_type": "code",
   "execution_count": 22,
   "metadata": {},
   "outputs": [
    {
     "name": "stdout",
     "output_type": "stream",
     "text": [
      "Test Error = 0\n",
      "1.0\n"
     ]
    }
   ],
   "source": [
    "evaluator = MulticlassClassificationEvaluator(\n",
    "    labelCol=\"label\", predictionCol=\"prediction\", metricName=\"accuracy\")\n",
    "accuracy = evaluator.evaluate(predictions)\n",
    "print(\"Test Error = %g\" % ((1.0 - accuracy)*100))\n",
    "print(accuracy)"
   ]
  },
  {
   "cell_type": "code",
   "execution_count": 23,
   "metadata": {},
   "outputs": [
    {
     "data": {
      "text/plain": [
       "'RandomForestClassificationModel: uid=RandomForestClassifier_36f3860c49cb, numTrees=3, numClasses=2, numFeatures=692\\n  Tree 0 (weight 1.0):\\n    If (feature 434 <= 70.5)\\n     Predict: 0.0\\n    Else (feature 434 > 70.5)\\n     Predict: 1.0\\n  Tree 1 (weight 1.0):\\n    If (feature 324 <= 60.0)\\n     If (feature 518 <= 21.0)\\n      Predict: 0.0\\n     Else (feature 518 > 21.0)\\n      Predict: 1.0\\n    Else (feature 324 > 60.0)\\n     If (feature 517 <= 43.0)\\n      Predict: 0.0\\n     Else (feature 517 > 43.0)\\n      Predict: 1.0\\n  Tree 2 (weight 1.0):\\n    If (feature 379 <= 59.0)\\n     If (feature 271 <= 9.5)\\n      If (feature 662 <= 7.0)\\n       Predict: 1.0\\n      Else (feature 662 > 7.0)\\n       Predict: 0.0\\n     Else (feature 271 > 9.5)\\n      Predict: 0.0\\n    Else (feature 379 > 59.0)\\n     If (feature 680 <= 141.5)\\n      Predict: 1.0\\n     Else (feature 680 > 141.5)\\n      Predict: 0.0\\n'"
      ]
     },
     "execution_count": 23,
     "metadata": {},
     "output_type": "execute_result"
    }
   ],
   "source": [
    "model.toDebugString"
   ]
  },
  {
   "cell_type": "markdown",
   "metadata": {},
   "source": [
    "## Exercice 4 : Forêt aléatoire/RandomForest (Covtype)"
   ]
  },
  {
   "cell_type": "code",
   "execution_count": 24,
   "metadata": {},
   "outputs": [],
   "source": [
    "data = spark.read.format(\"libsvm\").load('data/covtype.libsvm.binary')"
   ]
  },
  {
   "cell_type": "code",
   "execution_count": 25,
   "metadata": {},
   "outputs": [
    {
     "name": "stdout",
     "output_type": "stream",
     "text": [
      "+-----+--------------------+\n",
      "|label|            features|\n",
      "+-----+--------------------+\n",
      "|  1.0|(54,[0,1,2,3,5,6,...|\n",
      "|  1.0|(54,[0,1,2,3,4,5,...|\n",
      "|  2.0|(54,[0,1,2,3,4,5,...|\n",
      "|  2.0|(54,[0,1,2,3,4,5,...|\n",
      "|  1.0|(54,[0,1,2,3,4,5,...|\n",
      "+-----+--------------------+\n",
      "only showing top 5 rows\n",
      "\n"
     ]
    }
   ],
   "source": [
    "data.show(5)"
   ]
  },
  {
   "cell_type": "code",
   "execution_count": 26,
   "metadata": {},
   "outputs": [],
   "source": [
    "(training_data, test_data) = data.randomSplit([0.7, 0.3])\n",
    "rf = RandomForestClassifier(labelCol=\"label\", featuresCol=\"features\", numTrees=5, impurity='gini')\n",
    "model = rf.fit(training_data)\n",
    "predictions = model.transform(test_data)"
   ]
  },
  {
   "cell_type": "code",
   "execution_count": 27,
   "metadata": {},
   "outputs": [
    {
     "name": "stdout",
     "output_type": "stream",
     "text": [
      "+-----+--------------------+--------------------+--------------------+----------+\n",
      "|label|            features|       rawPrediction|         probability|prediction|\n",
      "+-----+--------------------+--------------------+--------------------+----------+\n",
      "|  1.0|(54,[0,1,2,3,4,5,...|[0.0,2.2062167068...|[0.0,0.4412433413...|       2.0|\n",
      "|  1.0|(54,[0,1,2,3,4,5,...|[0.0,2.2062167068...|[0.0,0.4412433413...|       2.0|\n",
      "|  1.0|(54,[0,1,2,3,4,5,...|[0.0,2.2062167068...|[0.0,0.4412433413...|       2.0|\n",
      "|  1.0|(54,[0,1,2,3,4,5,...|[0.0,2.2062167068...|[0.0,0.4412433413...|       2.0|\n",
      "|  1.0|(54,[0,1,2,3,4,5,...|[0.0,2.2062167068...|[0.0,0.4412433413...|       2.0|\n",
      "+-----+--------------------+--------------------+--------------------+----------+\n",
      "only showing top 5 rows\n",
      "\n"
     ]
    }
   ],
   "source": [
    "predictions.show(5)"
   ]
  },
  {
   "cell_type": "code",
   "execution_count": 28,
   "metadata": {},
   "outputs": [
    {
     "name": "stdout",
     "output_type": "stream",
     "text": [
      "Test Error = 26.3171\n"
     ]
    }
   ],
   "source": [
    "evaluator = MulticlassClassificationEvaluator(\n",
    "    labelCol=\"label\", predictionCol=\"prediction\", metricName=\"accuracy\")\n",
    "accuracy = evaluator.evaluate(predictions)\n",
    "print(\"Test Error = %g\" % ((1.0 - accuracy)*100))"
   ]
  },
  {
   "cell_type": "code",
   "execution_count": 29,
   "metadata": {},
   "outputs": [
    {
     "data": {
      "text/plain": [
       "3"
      ]
     },
     "execution_count": 29,
     "metadata": {},
     "output_type": "execute_result"
    }
   ],
   "source": [
    "model.numClasses"
   ]
  },
  {
   "cell_type": "markdown",
   "metadata": {},
   "source": [
    "## Exercice 5 : Forêt aléatoire RedWine Quality"
   ]
  },
  {
   "cell_type": "markdown",
   "metadata": {},
   "source": [
    "#### Import et préprocessing en Python"
   ]
  },
  {
   "cell_type": "code",
   "execution_count": 30,
   "metadata": {},
   "outputs": [],
   "source": [
    "data_wine = pd.read_csv(\"https://archive.ics.uci.edu/ml/machine-learning-databases/wine-quality/winequality-red.csv\", sep=';')"
   ]
  },
  {
   "cell_type": "code",
   "execution_count": 31,
   "metadata": {},
   "outputs": [
    {
     "data": {
      "text/html": [
       "<div>\n",
       "<style scoped>\n",
       "    .dataframe tbody tr th:only-of-type {\n",
       "        vertical-align: middle;\n",
       "    }\n",
       "\n",
       "    .dataframe tbody tr th {\n",
       "        vertical-align: top;\n",
       "    }\n",
       "\n",
       "    .dataframe thead th {\n",
       "        text-align: right;\n",
       "    }\n",
       "</style>\n",
       "<table border=\"1\" class=\"dataframe\">\n",
       "  <thead>\n",
       "    <tr style=\"text-align: right;\">\n",
       "      <th></th>\n",
       "      <th>fixed acidity</th>\n",
       "      <th>volatile acidity</th>\n",
       "      <th>citric acid</th>\n",
       "      <th>residual sugar</th>\n",
       "      <th>chlorides</th>\n",
       "      <th>free sulfur dioxide</th>\n",
       "      <th>total sulfur dioxide</th>\n",
       "      <th>density</th>\n",
       "      <th>pH</th>\n",
       "      <th>sulphates</th>\n",
       "      <th>alcohol</th>\n",
       "      <th>quality</th>\n",
       "    </tr>\n",
       "  </thead>\n",
       "  <tbody>\n",
       "    <tr>\n",
       "      <th>0</th>\n",
       "      <td>7.4</td>\n",
       "      <td>0.70</td>\n",
       "      <td>0.00</td>\n",
       "      <td>1.9</td>\n",
       "      <td>0.076</td>\n",
       "      <td>11.0</td>\n",
       "      <td>34.0</td>\n",
       "      <td>0.9978</td>\n",
       "      <td>3.51</td>\n",
       "      <td>0.56</td>\n",
       "      <td>9.4</td>\n",
       "      <td>5</td>\n",
       "    </tr>\n",
       "    <tr>\n",
       "      <th>1</th>\n",
       "      <td>7.8</td>\n",
       "      <td>0.88</td>\n",
       "      <td>0.00</td>\n",
       "      <td>2.6</td>\n",
       "      <td>0.098</td>\n",
       "      <td>25.0</td>\n",
       "      <td>67.0</td>\n",
       "      <td>0.9968</td>\n",
       "      <td>3.20</td>\n",
       "      <td>0.68</td>\n",
       "      <td>9.8</td>\n",
       "      <td>5</td>\n",
       "    </tr>\n",
       "    <tr>\n",
       "      <th>2</th>\n",
       "      <td>7.8</td>\n",
       "      <td>0.76</td>\n",
       "      <td>0.04</td>\n",
       "      <td>2.3</td>\n",
       "      <td>0.092</td>\n",
       "      <td>15.0</td>\n",
       "      <td>54.0</td>\n",
       "      <td>0.9970</td>\n",
       "      <td>3.26</td>\n",
       "      <td>0.65</td>\n",
       "      <td>9.8</td>\n",
       "      <td>5</td>\n",
       "    </tr>\n",
       "  </tbody>\n",
       "</table>\n",
       "</div>"
      ],
      "text/plain": [
       "   fixed acidity  volatile acidity  citric acid  residual sugar  chlorides  \\\n",
       "0            7.4              0.70         0.00             1.9      0.076   \n",
       "1            7.8              0.88         0.00             2.6      0.098   \n",
       "2            7.8              0.76         0.04             2.3      0.092   \n",
       "\n",
       "   free sulfur dioxide  total sulfur dioxide  density    pH  sulphates  \\\n",
       "0                 11.0                  34.0   0.9978  3.51       0.56   \n",
       "1                 25.0                  67.0   0.9968  3.20       0.68   \n",
       "2                 15.0                  54.0   0.9970  3.26       0.65   \n",
       "\n",
       "   alcohol  quality  \n",
       "0      9.4        5  \n",
       "1      9.8        5  \n",
       "2      9.8        5  "
      ]
     },
     "execution_count": 31,
     "metadata": {},
     "output_type": "execute_result"
    }
   ],
   "source": [
    "data_wine.head(3)"
   ]
  },
  {
   "cell_type": "code",
   "execution_count": 32,
   "metadata": {},
   "outputs": [],
   "source": [
    "data_wine.loc[data_wine['quality'] < 5, 'Classe'] = 0 #mauvaise qualité"
   ]
  },
  {
   "cell_type": "code",
   "execution_count": 33,
   "metadata": {},
   "outputs": [],
   "source": [
    "data_wine.loc[data_wine['quality'] >= 5, 'Classe'] = 1 #bonne qualité"
   ]
  },
  {
   "cell_type": "code",
   "execution_count": 34,
   "metadata": {},
   "outputs": [],
   "source": [
    "data_wine = data_wine.drop('quality',axis=1) #on en a plus besoin"
   ]
  },
  {
   "cell_type": "code",
   "execution_count": 35,
   "metadata": {},
   "outputs": [
    {
     "data": {
      "text/html": [
       "<div>\n",
       "<style scoped>\n",
       "    .dataframe tbody tr th:only-of-type {\n",
       "        vertical-align: middle;\n",
       "    }\n",
       "\n",
       "    .dataframe tbody tr th {\n",
       "        vertical-align: top;\n",
       "    }\n",
       "\n",
       "    .dataframe thead th {\n",
       "        text-align: right;\n",
       "    }\n",
       "</style>\n",
       "<table border=\"1\" class=\"dataframe\">\n",
       "  <thead>\n",
       "    <tr style=\"text-align: right;\">\n",
       "      <th></th>\n",
       "      <th>fixed acidity</th>\n",
       "      <th>volatile acidity</th>\n",
       "      <th>citric acid</th>\n",
       "      <th>residual sugar</th>\n",
       "      <th>chlorides</th>\n",
       "      <th>free sulfur dioxide</th>\n",
       "      <th>total sulfur dioxide</th>\n",
       "      <th>density</th>\n",
       "      <th>pH</th>\n",
       "      <th>sulphates</th>\n",
       "      <th>alcohol</th>\n",
       "      <th>Classe</th>\n",
       "    </tr>\n",
       "  </thead>\n",
       "  <tbody>\n",
       "    <tr>\n",
       "      <th>988</th>\n",
       "      <td>7.7</td>\n",
       "      <td>0.390</td>\n",
       "      <td>0.12</td>\n",
       "      <td>1.7</td>\n",
       "      <td>0.097</td>\n",
       "      <td>19.0</td>\n",
       "      <td>27.0</td>\n",
       "      <td>0.99596</td>\n",
       "      <td>3.16</td>\n",
       "      <td>0.49</td>\n",
       "      <td>9.4</td>\n",
       "      <td>1.0</td>\n",
       "    </tr>\n",
       "    <tr>\n",
       "      <th>1557</th>\n",
       "      <td>6.6</td>\n",
       "      <td>0.855</td>\n",
       "      <td>0.02</td>\n",
       "      <td>2.4</td>\n",
       "      <td>0.062</td>\n",
       "      <td>15.0</td>\n",
       "      <td>23.0</td>\n",
       "      <td>0.99627</td>\n",
       "      <td>3.54</td>\n",
       "      <td>0.60</td>\n",
       "      <td>11.0</td>\n",
       "      <td>1.0</td>\n",
       "    </tr>\n",
       "  </tbody>\n",
       "</table>\n",
       "</div>"
      ],
      "text/plain": [
       "      fixed acidity  volatile acidity  citric acid  residual sugar  chlorides  \\\n",
       "988             7.7             0.390         0.12             1.7      0.097   \n",
       "1557            6.6             0.855         0.02             2.4      0.062   \n",
       "\n",
       "      free sulfur dioxide  total sulfur dioxide  density    pH  sulphates  \\\n",
       "988                  19.0                  27.0  0.99596  3.16       0.49   \n",
       "1557                 15.0                  23.0  0.99627  3.54       0.60   \n",
       "\n",
       "      alcohol  Classe  \n",
       "988       9.4     1.0  \n",
       "1557     11.0     1.0  "
      ]
     },
     "execution_count": 35,
     "metadata": {},
     "output_type": "execute_result"
    }
   ],
   "source": [
    "data_wine.sample(2)"
   ]
  },
  {
   "cell_type": "markdown",
   "metadata": {},
   "source": [
    "#### Passage à Spark"
   ]
  },
  {
   "cell_type": "code",
   "execution_count": 36,
   "metadata": {},
   "outputs": [
    {
     "name": "stdout",
     "output_type": "stream",
     "text": [
      "+-------------+----------------+-----------+--------------+---------+-------------------+--------------------+-------+----+---------+-------+------+\n",
      "|fixed acidity|volatile acidity|citric acid|residual sugar|chlorides|free sulfur dioxide|total sulfur dioxide|density|  pH|sulphates|alcohol|Classe|\n",
      "+-------------+----------------+-----------+--------------+---------+-------------------+--------------------+-------+----+---------+-------+------+\n",
      "|          7.4|             0.7|        0.0|           1.9|    0.076|               11.0|                34.0| 0.9978|3.51|     0.56|    9.4|   1.0|\n",
      "|          7.8|            0.88|        0.0|           2.6|    0.098|               25.0|                67.0| 0.9968| 3.2|     0.68|    9.8|   1.0|\n",
      "+-------------+----------------+-----------+--------------+---------+-------------------+--------------------+-------+----+---------+-------+------+\n",
      "only showing top 2 rows\n",
      "\n"
     ]
    }
   ],
   "source": [
    "df_features = spark.createDataFrame(data_wine, list(data_wine.columns))\n",
    "df_features.show(2)"
   ]
  },
  {
   "cell_type": "code",
   "execution_count": 37,
   "metadata": {},
   "outputs": [
    {
     "name": "stdout",
     "output_type": "stream",
     "text": [
      "+--------------------+------+\n",
      "|            features|Classe|\n",
      "+--------------------+------+\n",
      "|[7.4,0.7,0.0,1.9,...|   1.0|\n",
      "|[7.8,0.88,0.0,2.6...|   1.0|\n",
      "|[7.8,0.76,0.04,2....|   1.0|\n",
      "|[11.2,0.28,0.56,1...|   1.0|\n",
      "|[7.4,0.7,0.0,1.9,...|   1.0|\n",
      "|[7.4,0.66,0.0,1.8...|   1.0|\n",
      "+--------------------+------+\n",
      "only showing top 6 rows\n",
      "\n"
     ]
    }
   ],
   "source": [
    "assembler = VectorAssembler(inputCols = ['fixed acidity', 'volatile acidity', 'citric acid', 'residual sugar',\n",
    "       'chlorides', 'free sulfur dioxide', 'total sulfur dioxide', 'density',\n",
    "       'pH', 'sulphates', 'alcohol'], outputCol = 'features')\n",
    "\n",
    "df = assembler.transform(df_features)\n",
    "df = df.select('features','Classe')\n",
    "df.show(6)"
   ]
  },
  {
   "cell_type": "code",
   "execution_count": 38,
   "metadata": {},
   "outputs": [
    {
     "name": "stdout",
     "output_type": "stream",
     "text": [
      "+--------------------+------+--------------------+\n",
      "|            features|Classe|      scaledFeatures|\n",
      "+--------------------+------+--------------------+\n",
      "|[7.4,0.7,0.0,1.9,...|   1.0|[4.25019565141442...|\n",
      "|[7.8,0.88,0.0,2.6...|   1.0|[4.47993595689628...|\n",
      "|[7.8,0.76,0.04,2....|   1.0|[4.47993595689628...|\n",
      "|[11.2,0.28,0.56,1...|   1.0|[6.43272855349210...|\n",
      "|[7.4,0.7,0.0,1.9,...|   1.0|[4.25019565141442...|\n",
      "|[7.4,0.66,0.0,1.8...|   1.0|[4.25019565141442...|\n",
      "+--------------------+------+--------------------+\n",
      "only showing top 6 rows\n",
      "\n"
     ]
    }
   ],
   "source": [
    "scaler = StandardScaler(inputCol = 'features', outputCol = 'scaledFeatures').fit(df)\n",
    "df_scaled = scaler.transform(df)\n",
    "df_scaled.show(6)"
   ]
  },
  {
   "cell_type": "code",
   "execution_count": 39,
   "metadata": {},
   "outputs": [],
   "source": [
    "(training_data, test_data) = df_scaled.randomSplit([0.7, 0.3])"
   ]
  },
  {
   "cell_type": "code",
   "execution_count": 40,
   "metadata": {},
   "outputs": [],
   "source": [
    "rf = RandomForestClassifier(featuresCol='scaledFeatures', labelCol='Classe',numTrees=3, impurity='gini')"
   ]
  },
  {
   "cell_type": "code",
   "execution_count": 41,
   "metadata": {},
   "outputs": [],
   "source": [
    "model = rf.fit(training_data)"
   ]
  },
  {
   "cell_type": "code",
   "execution_count": 42,
   "metadata": {},
   "outputs": [],
   "source": [
    "predictions = model.transform(test_data)"
   ]
  },
  {
   "cell_type": "code",
   "execution_count": 43,
   "metadata": {},
   "outputs": [
    {
     "name": "stdout",
     "output_type": "stream",
     "text": [
      "+--------------------+------+--------------------+--------------------+--------------------+----------+\n",
      "|            features|Classe|      scaledFeatures|       rawPrediction|         probability|prediction|\n",
      "+--------------------+------+--------------------+--------------------+--------------------+----------+\n",
      "|[5.2,0.32,0.25,1....|   1.0|[2.98662397126419...|[0.05862396522536...|[0.01954132174178...|       1.0|\n",
      "|[5.2,0.34,0.0,1.8...|   1.0|[2.98662397126419...|[0.06217152985906...|[0.02072384328635...|       1.0|\n",
      "|[5.6,0.5,0.09,2.3...|   1.0|[3.21636427674605...|[0.06217152985906...|[0.02072384328635...|       1.0|\n",
      "|[5.6,0.5,0.09,2.3...|   1.0|[3.21636427674605...|[0.06217152985906...|[0.02072384328635...|       1.0|\n",
      "|[5.6,0.85,0.05,1....|   1.0|[3.21636427674605...|[0.08899665719352...|[0.02966555239784...|       1.0|\n",
      "+--------------------+------+--------------------+--------------------+--------------------+----------+\n",
      "only showing top 5 rows\n",
      "\n"
     ]
    }
   ],
   "source": [
    "predictions.show(5)"
   ]
  },
  {
   "cell_type": "code",
   "execution_count": 44,
   "metadata": {},
   "outputs": [
    {
     "name": "stdout",
     "output_type": "stream",
     "text": [
      "Test Error = 3.73626\n"
     ]
    }
   ],
   "source": [
    "evaluator = MulticlassClassificationEvaluator(\n",
    "    labelCol=\"Classe\", predictionCol=\"prediction\", metricName=\"accuracy\")\n",
    "accuracy = evaluator.evaluate(predictions)\n",
    "print(\"Test Error = %g\" % ((1.0 - accuracy)*100))"
   ]
  },
  {
   "cell_type": "markdown",
   "metadata": {},
   "source": [
    "#### Comparaison avec le RandomForest de sklearn sur redwine data"
   ]
  },
  {
   "cell_type": "code",
   "execution_count": 45,
   "metadata": {},
   "outputs": [],
   "source": [
    "from sklearn.model_selection import train_test_split\n",
    "from sklearn.ensemble import RandomForestClassifier\n",
    "from sklearn.metrics import accuracy_score"
   ]
  },
  {
   "cell_type": "code",
   "execution_count": 46,
   "metadata": {},
   "outputs": [
    {
     "data": {
      "text/html": [
       "<div>\n",
       "<style scoped>\n",
       "    .dataframe tbody tr th:only-of-type {\n",
       "        vertical-align: middle;\n",
       "    }\n",
       "\n",
       "    .dataframe tbody tr th {\n",
       "        vertical-align: top;\n",
       "    }\n",
       "\n",
       "    .dataframe thead th {\n",
       "        text-align: right;\n",
       "    }\n",
       "</style>\n",
       "<table border=\"1\" class=\"dataframe\">\n",
       "  <thead>\n",
       "    <tr style=\"text-align: right;\">\n",
       "      <th></th>\n",
       "      <th>fixed acidity</th>\n",
       "      <th>volatile acidity</th>\n",
       "      <th>citric acid</th>\n",
       "      <th>residual sugar</th>\n",
       "      <th>chlorides</th>\n",
       "      <th>free sulfur dioxide</th>\n",
       "      <th>total sulfur dioxide</th>\n",
       "      <th>density</th>\n",
       "      <th>pH</th>\n",
       "      <th>sulphates</th>\n",
       "      <th>alcohol</th>\n",
       "    </tr>\n",
       "  </thead>\n",
       "  <tbody>\n",
       "    <tr>\n",
       "      <th>1439</th>\n",
       "      <td>7.3</td>\n",
       "      <td>0.67</td>\n",
       "      <td>0.02</td>\n",
       "      <td>2.2</td>\n",
       "      <td>0.072</td>\n",
       "      <td>31.0</td>\n",
       "      <td>92.0</td>\n",
       "      <td>0.99566</td>\n",
       "      <td>3.32</td>\n",
       "      <td>0.68</td>\n",
       "      <td>11.066667</td>\n",
       "    </tr>\n",
       "    <tr>\n",
       "      <th>544</th>\n",
       "      <td>14.3</td>\n",
       "      <td>0.31</td>\n",
       "      <td>0.74</td>\n",
       "      <td>1.8</td>\n",
       "      <td>0.075</td>\n",
       "      <td>6.0</td>\n",
       "      <td>15.0</td>\n",
       "      <td>1.00080</td>\n",
       "      <td>2.86</td>\n",
       "      <td>0.79</td>\n",
       "      <td>8.400000</td>\n",
       "    </tr>\n",
       "  </tbody>\n",
       "</table>\n",
       "</div>"
      ],
      "text/plain": [
       "      fixed acidity  volatile acidity  citric acid  residual sugar  chlorides  \\\n",
       "1439            7.3              0.67         0.02             2.2      0.072   \n",
       "544            14.3              0.31         0.74             1.8      0.075   \n",
       "\n",
       "      free sulfur dioxide  total sulfur dioxide  density    pH  sulphates  \\\n",
       "1439                 31.0                  92.0  0.99566  3.32       0.68   \n",
       "544                   6.0                  15.0  1.00080  2.86       0.79   \n",
       "\n",
       "        alcohol  \n",
       "1439  11.066667  \n",
       "544    8.400000  "
      ]
     },
     "execution_count": 46,
     "metadata": {},
     "output_type": "execute_result"
    }
   ],
   "source": [
    "X = data_wine.drop('Classe', axis=1)\n",
    "X.sample(2)"
   ]
  },
  {
   "cell_type": "code",
   "execution_count": 47,
   "metadata": {},
   "outputs": [
    {
     "data": {
      "text/plain": [
       "239    1.0\n",
       "402    1.0\n",
       "Name: Classe, dtype: float64"
      ]
     },
     "execution_count": 47,
     "metadata": {},
     "output_type": "execute_result"
    }
   ],
   "source": [
    "y = data_wine['Classe']\n",
    "y.sample(2)"
   ]
  },
  {
   "cell_type": "code",
   "execution_count": 48,
   "metadata": {},
   "outputs": [],
   "source": [
    "X_train, X_test, y_train, y_test = train_test_split(X, y, test_size=0.33, random_state=42)"
   ]
  },
  {
   "cell_type": "code",
   "execution_count": 49,
   "metadata": {},
   "outputs": [],
   "source": [
    "clf = RandomForestClassifier(n_estimators=3,criterion='gini')"
   ]
  },
  {
   "cell_type": "code",
   "execution_count": 50,
   "metadata": {},
   "outputs": [
    {
     "data": {
      "text/plain": [
       "RandomForestClassifier(n_estimators=3)"
      ]
     },
     "execution_count": 50,
     "metadata": {},
     "output_type": "execute_result"
    }
   ],
   "source": [
    "clf.fit(X_train, y_train)"
   ]
  },
  {
   "cell_type": "code",
   "execution_count": 51,
   "metadata": {},
   "outputs": [],
   "source": [
    "prediction = clf.predict(X_test)"
   ]
  },
  {
   "cell_type": "code",
   "execution_count": 52,
   "metadata": {},
   "outputs": [
    {
     "name": "stdout",
     "output_type": "stream",
     "text": [
      "Test Error = 4.92424\n"
     ]
    }
   ],
   "source": [
    "print(\"Test Error = %g\" % ((1.0 - accuracy_score(y_test, prediction))*100))"
   ]
  },
  {
   "cell_type": "markdown",
   "metadata": {},
   "source": [
    "## Exercice 6 : Régréssion linéaire"
   ]
  },
  {
   "cell_type": "code",
   "execution_count": 53,
   "metadata": {},
   "outputs": [],
   "source": [
    "from pyspark.ml.regression import LinearRegression\n",
    "from pyspark.ml.feature import VectorAssembler\n",
    "from pyspark.sql.functions import col\n",
    "from pyspark.ml.feature import StringIndexer"
   ]
  },
  {
   "cell_type": "code",
   "execution_count": 54,
   "metadata": {},
   "outputs": [],
   "source": [
    "data_lpsa = spark.read.csv('/usr/local/Cellar/apache-spark/3.0.1/libexec/data/mllib/ridge-data/lpsa.data', sep=' ')"
   ]
  },
  {
   "cell_type": "code",
   "execution_count": 55,
   "metadata": {},
   "outputs": [],
   "source": [
    "#data_lpsa.collect()"
   ]
  },
  {
   "cell_type": "code",
   "execution_count": 56,
   "metadata": {},
   "outputs": [
    {
     "data": {
      "text/plain": [
       "['_c0', '_c1', '_c2', '_c3', '_c4', '_c5', '_c6', '_c7', '_c8']"
      ]
     },
     "execution_count": 56,
     "metadata": {},
     "output_type": "execute_result"
    }
   ],
   "source": [
    "data_lpsa.columns"
   ]
  },
  {
   "cell_type": "code",
   "execution_count": 57,
   "metadata": {},
   "outputs": [],
   "source": [
    "data_lpsa = data_lpsa.select(*(col(c).cast(\"float\").alias(c) for c in data_lpsa.columns))"
   ]
  },
  {
   "cell_type": "code",
   "execution_count": 58,
   "metadata": {},
   "outputs": [
    {
     "name": "stdout",
     "output_type": "stream",
     "text": [
      "+--------------------+----------+\n",
      "|            features|       _c0|\n",
      "+--------------------+----------+\n",
      "|[-1.6373556852340...|-0.4307829|\n",
      "|[-1.9889804124832...|-0.1625189|\n",
      "|[-1.5788189172744...|-0.1625189|\n",
      "|[-2.1669170856475...|-0.1625189|\n",
      "|[-0.5078744888305...| 0.3715636|\n",
      "|[-2.0361285209655...| 0.7654678|\n",
      "+--------------------+----------+\n",
      "only showing top 6 rows\n",
      "\n"
     ]
    }
   ],
   "source": [
    "assembler = VectorAssembler(inputCols = ['_c1', '_c2', '_c3', '_c4', '_c5', '_c6', '_c7', '_c8'], outputCol = 'features')\n",
    "data = assembler.transform(data_lpsa).select('features','_c0')\n",
    "data.show(6)"
   ]
  },
  {
   "cell_type": "code",
   "execution_count": 59,
   "metadata": {},
   "outputs": [],
   "source": [
    "data = data.selectExpr(\"features as features\", \"_c0 as label\")"
   ]
  },
  {
   "cell_type": "code",
   "execution_count": 60,
   "metadata": {},
   "outputs": [],
   "source": [
    "train,test = data.randomSplit([0.75, 0.25])"
   ]
  },
  {
   "cell_type": "code",
   "execution_count": 61,
   "metadata": {},
   "outputs": [],
   "source": [
    "model = LinearRegression(maxIter=100)"
   ]
  },
  {
   "cell_type": "code",
   "execution_count": 62,
   "metadata": {},
   "outputs": [],
   "source": [
    "lrModel = model.fit(train)"
   ]
  },
  {
   "cell_type": "code",
   "execution_count": 63,
   "metadata": {},
   "outputs": [
    {
     "name": "stdout",
     "output_type": "stream",
     "text": [
      "Coefficients: [0.8463532973898743,0.055231493095207695,-0.14388277767264118,0.2805316537322125,0.33357173139950064,-0.49861394474532983,-0.17412877943973856,0.4547890514296306]\n",
      "\n",
      "Intercept: 2.40495913259291\n"
     ]
    }
   ],
   "source": [
    "print(\"Coefficients: \" + str(lrModel.coefficients))\n",
    "print(\"\\nIntercept: \" + str(lrModel.intercept))"
   ]
  },
  {
   "cell_type": "code",
   "execution_count": 64,
   "metadata": {},
   "outputs": [
    {
     "name": "stdout",
     "output_type": "stream",
     "text": [
      "RMSE: 0.678600\n",
      "\n",
      "r2: 0.708419\n"
     ]
    }
   ],
   "source": [
    "trainSummary = lrModel.summary\n",
    "print(\"RMSE: %f\" % trainSummary.rootMeanSquaredError)\n",
    "print(\"\\nr2: %f\" % trainSummary.r2)"
   ]
  },
  {
   "cell_type": "code",
   "execution_count": 65,
   "metadata": {},
   "outputs": [],
   "source": [
    "predictions = lrModel.transform(test)"
   ]
  },
  {
   "cell_type": "code",
   "execution_count": 66,
   "metadata": {},
   "outputs": [
    {
     "name": "stdout",
     "output_type": "stream",
     "text": [
      "+--------------------+----------+------------------+\n",
      "|            features|     label|        prediction|\n",
      "+--------------------+----------+------------------+\n",
      "|[-2.2883305549621...| 1.2669476|0.7509031379017597|\n",
      "|[-1.5788189172744...|-0.1625189|0.5901593859027527|\n",
      "|[-1.5240614414215...| 2.9626925| 0.873161758945654|\n",
      "|[-0.9907206892967...| 1.5993876|  1.81874373922193|\n",
      "|[-0.9034516811370...| 1.9242487|1.8726805015959123|\n",
      "|[-0.7103073596954...| 1.8000582|2.2283874834717188|\n",
      "|[-0.6852776408195...|  2.806386|1.9682179715933543|\n",
      "|[-0.5078744888305...| 0.3715636|1.7426454864024101|\n",
      "|[-0.2189723700284...| 2.6567569| 2.508676105649968|\n",
      "|[-0.1324315369129...| 2.9729753|2.3886997381162915|\n",
      "|[-0.0633337870240...|  2.008214|2.4070629458405133|\n",
      "|[0.06202037259936...| 2.1575594|0.8712527665663519|\n",
      "|[0.11549910157918...| 2.5217206|  2.53690878816636|\n",
      "|[0.22349804639816...| 1.2669476|2.2509795626525437|\n",
      "|[0.26634132862091...| 2.5533438| 2.799888206618476|\n",
      "|[0.57088696956634...| 2.9204698|3.1320431700250912|\n",
      "|[0.57200855016708...|  3.680091|  3.35747880250634|\n",
      "|[0.98729163408279...| 3.5307627|2.8649293673417584|\n",
      "|[1.07158529758453...| 3.5652983|3.3688579630991637|\n",
      "|[1.23668205738067...| 3.9843438| 3.486079533695555|\n",
      "+--------------------+----------+------------------+\n",
      "only showing top 20 rows\n",
      "\n"
     ]
    }
   ],
   "source": [
    "predictions.show()"
   ]
  },
  {
   "cell_type": "markdown",
   "metadata": {},
   "source": [
    "## Exercice 7 : Régréssion linéaire"
   ]
  },
  {
   "cell_type": "code",
   "execution_count": 68,
   "metadata": {},
   "outputs": [
    {
     "name": "stdout",
     "output_type": "stream",
     "text": [
      "+-----+----+---+---+---+---+---+---+----+---+\n",
      "|  _c0| _c1|_c2|_c3|_c4|_c5|_c6|_c7| _c8|_c9|\n",
      "+-----+----+---+---+---+---+---+---+----+---+\n",
      "|-0.33|0.69|  0|  1|  1|  0|0.8|  0|0.88|  N|\n",
      "|-0.33|0.94|  1|  0|  1|  0|0.8|  1|0.31|  O|\n",
      "|-0.33| 0.5|  1|  0|  0|  0|  1| -1| 0.5|  N|\n",
      "|-0.33|0.75|  0|  1|  1|  0|  1| -1|0.38|  N|\n",
      "|-0.33|0.67|  1|  1|  0|  0|0.8| -1| 0.5|  O|\n",
      "|-0.33|0.67|  1|  0|  1|  0|0.8|  0| 0.5|  N|\n",
      "|-0.33|0.67|  0|  0|  0| -1|0.8| -1|0.44|  N|\n",
      "|-0.33|   1|  1|  1|  1|  0|0.6| -1|0.38|  N|\n",
      "|    1|0.64|  0|  0|  1|  0|0.8| -1|0.25|  N|\n",
      "|    1|0.61|  1|  0|  0|  0|  1| -1|0.25|  N|\n",
      "|    1|0.67|  1|  1|  0| -1|0.8|  0|0.31|  N|\n",
      "|    1|0.78|  1|  1|  1|  0|0.6|  0|0.13|  N|\n",
      "|    1|0.75|  1|  1|  1|  0|0.8|  1|0.25|  N|\n",
      "|    1|0.81|  1|  0|  0|  0|  1| -1|0.38|  N|\n",
      "|    1|0.94|  1|  1|  1|  0|0.2| -1|0.25|  N|\n",
      "|    1|0.81|  1|  1|  0|  0|  1|  1| 0.5|  N|\n",
      "|    1|0.64|  1|  0|  1|  0|  1| -1|0.38|  N|\n",
      "|    1|0.69|  1|  0|  1|  0|0.8| -1|0.25|  O|\n",
      "|    1|0.75|  1|  1|  1|  0|  1|  1|0.25|  N|\n",
      "|    1|0.67|  1|  0|  0|  0|0.8|  1|0.38|  O|\n",
      "+-----+----+---+---+---+---+---+---+----+---+\n",
      "only showing top 20 rows\n",
      "\n"
     ]
    }
   ],
   "source": [
    "data = spark.read.csv('./data/fertility_Diagnosis.txt', sep=',')\n",
    "data.show()"
   ]
  },
  {
   "cell_type": "code",
   "execution_count": 69,
   "metadata": {},
   "outputs": [
    {
     "name": "stdout",
     "output_type": "stream",
     "text": [
      "+-----+----+---+---+---+---+---+---+----+---+----+\n",
      "|  _c0| _c1|_c2|_c3|_c4|_c5|_c6|_c7| _c8|_c9|_c10|\n",
      "+-----+----+---+---+---+---+---+---+----+---+----+\n",
      "|-0.33|0.69|  0|  1|  1|  0|0.8|  0|0.88|  N| 0.0|\n",
      "|-0.33|0.94|  1|  0|  1|  0|0.8|  1|0.31|  O| 1.0|\n",
      "|-0.33| 0.5|  1|  0|  0|  0|  1| -1| 0.5|  N| 0.0|\n",
      "|-0.33|0.75|  0|  1|  1|  0|  1| -1|0.38|  N| 0.0|\n",
      "|-0.33|0.67|  1|  1|  0|  0|0.8| -1| 0.5|  O| 1.0|\n",
      "|-0.33|0.67|  1|  0|  1|  0|0.8|  0| 0.5|  N| 0.0|\n",
      "|-0.33|0.67|  0|  0|  0| -1|0.8| -1|0.44|  N| 0.0|\n",
      "|-0.33|   1|  1|  1|  1|  0|0.6| -1|0.38|  N| 0.0|\n",
      "|    1|0.64|  0|  0|  1|  0|0.8| -1|0.25|  N| 0.0|\n",
      "|    1|0.61|  1|  0|  0|  0|  1| -1|0.25|  N| 0.0|\n",
      "|    1|0.67|  1|  1|  0| -1|0.8|  0|0.31|  N| 0.0|\n",
      "|    1|0.78|  1|  1|  1|  0|0.6|  0|0.13|  N| 0.0|\n",
      "|    1|0.75|  1|  1|  1|  0|0.8|  1|0.25|  N| 0.0|\n",
      "|    1|0.81|  1|  0|  0|  0|  1| -1|0.38|  N| 0.0|\n",
      "|    1|0.94|  1|  1|  1|  0|0.2| -1|0.25|  N| 0.0|\n",
      "|    1|0.81|  1|  1|  0|  0|  1|  1| 0.5|  N| 0.0|\n",
      "|    1|0.64|  1|  0|  1|  0|  1| -1|0.38|  N| 0.0|\n",
      "|    1|0.69|  1|  0|  1|  0|0.8| -1|0.25|  O| 1.0|\n",
      "|    1|0.75|  1|  1|  1|  0|  1|  1|0.25|  N| 0.0|\n",
      "|    1|0.67|  1|  0|  0|  0|0.8|  1|0.38|  O| 1.0|\n",
      "+-----+----+---+---+---+---+---+---+----+---+----+\n",
      "only showing top 20 rows\n",
      "\n"
     ]
    }
   ],
   "source": [
    "indexer = StringIndexer(inputCol='_c9', outputCol=\"_c10\") \n",
    "indexed = indexer.fit(data).transform(data) \n",
    "indexed.show()"
   ]
  },
  {
   "cell_type": "code",
   "execution_count": 70,
   "metadata": {},
   "outputs": [],
   "source": [
    "indexed = indexed.drop('_c9')"
   ]
  },
  {
   "cell_type": "code",
   "execution_count": 71,
   "metadata": {},
   "outputs": [],
   "source": [
    "data = indexed.select(*(col(c).cast(\"float\").alias(c) for c in indexed.columns))"
   ]
  },
  {
   "cell_type": "code",
   "execution_count": 72,
   "metadata": {},
   "outputs": [
    {
     "name": "stdout",
     "output_type": "stream",
     "text": [
      "+-----+----+---+---+---+----+---+----+----+----+\n",
      "|  _c0| _c1|_c2|_c3|_c4| _c5|_c6| _c7| _c8|_c10|\n",
      "+-----+----+---+---+---+----+---+----+----+----+\n",
      "|-0.33|0.69|0.0|1.0|1.0| 0.0|0.8| 0.0|0.88| 0.0|\n",
      "|-0.33|0.94|1.0|0.0|1.0| 0.0|0.8| 1.0|0.31| 1.0|\n",
      "|-0.33| 0.5|1.0|0.0|0.0| 0.0|1.0|-1.0| 0.5| 0.0|\n",
      "|-0.33|0.75|0.0|1.0|1.0| 0.0|1.0|-1.0|0.38| 0.0|\n",
      "|-0.33|0.67|1.0|1.0|0.0| 0.0|0.8|-1.0| 0.5| 1.0|\n",
      "|-0.33|0.67|1.0|0.0|1.0| 0.0|0.8| 0.0| 0.5| 0.0|\n",
      "|-0.33|0.67|0.0|0.0|0.0|-1.0|0.8|-1.0|0.44| 0.0|\n",
      "|-0.33| 1.0|1.0|1.0|1.0| 0.0|0.6|-1.0|0.38| 0.0|\n",
      "|  1.0|0.64|0.0|0.0|1.0| 0.0|0.8|-1.0|0.25| 0.0|\n",
      "|  1.0|0.61|1.0|0.0|0.0| 0.0|1.0|-1.0|0.25| 0.0|\n",
      "|  1.0|0.67|1.0|1.0|0.0|-1.0|0.8| 0.0|0.31| 0.0|\n",
      "|  1.0|0.78|1.0|1.0|1.0| 0.0|0.6| 0.0|0.13| 0.0|\n",
      "|  1.0|0.75|1.0|1.0|1.0| 0.0|0.8| 1.0|0.25| 0.0|\n",
      "|  1.0|0.81|1.0|0.0|0.0| 0.0|1.0|-1.0|0.38| 0.0|\n",
      "|  1.0|0.94|1.0|1.0|1.0| 0.0|0.2|-1.0|0.25| 0.0|\n",
      "|  1.0|0.81|1.0|1.0|0.0| 0.0|1.0| 1.0| 0.5| 0.0|\n",
      "|  1.0|0.64|1.0|0.0|1.0| 0.0|1.0|-1.0|0.38| 0.0|\n",
      "|  1.0|0.69|1.0|0.0|1.0| 0.0|0.8|-1.0|0.25| 1.0|\n",
      "|  1.0|0.75|1.0|1.0|1.0| 0.0|1.0| 1.0|0.25| 0.0|\n",
      "|  1.0|0.67|1.0|0.0|0.0| 0.0|0.8| 1.0|0.38| 1.0|\n",
      "+-----+----+---+---+---+----+---+----+----+----+\n",
      "only showing top 20 rows\n",
      "\n"
     ]
    }
   ],
   "source": [
    "data.show()"
   ]
  },
  {
   "cell_type": "code",
   "execution_count": 73,
   "metadata": {},
   "outputs": [
    {
     "data": {
      "text/plain": [
       "['_c0', '_c1', '_c2', '_c3', '_c4', '_c5', '_c6', '_c7', '_c8', '_c10']"
      ]
     },
     "execution_count": 73,
     "metadata": {},
     "output_type": "execute_result"
    }
   ],
   "source": [
    "data.columns"
   ]
  },
  {
   "cell_type": "code",
   "execution_count": 74,
   "metadata": {},
   "outputs": [
    {
     "name": "stdout",
     "output_type": "stream",
     "text": [
      "+--------------------+----+\n",
      "|            features|_c10|\n",
      "+--------------------+----+\n",
      "|[-0.3300000131130...| 0.0|\n",
      "|[-0.3300000131130...| 1.0|\n",
      "|[-0.3300000131130...| 0.0|\n",
      "|[-0.3300000131130...| 0.0|\n",
      "|[-0.3300000131130...| 1.0|\n",
      "|[-0.3300000131130...| 0.0|\n",
      "+--------------------+----+\n",
      "only showing top 6 rows\n",
      "\n"
     ]
    }
   ],
   "source": [
    "assembler = VectorAssembler(inputCols = ['_c0', '_c1', '_c2', '_c3', '_c4', '_c5', '_c6', '_c7', '_c8'], outputCol = 'features')\n",
    "data = assembler.transform(data).select('features','_c10')\n",
    "data.show(6)"
   ]
  },
  {
   "cell_type": "code",
   "execution_count": 75,
   "metadata": {},
   "outputs": [],
   "source": [
    "data = data.selectExpr(\"features as features\", \"_c10 as label\")"
   ]
  },
  {
   "cell_type": "code",
   "execution_count": 76,
   "metadata": {},
   "outputs": [],
   "source": [
    "train,test = data.randomSplit([0.75, 0.25])"
   ]
  },
  {
   "cell_type": "code",
   "execution_count": 77,
   "metadata": {},
   "outputs": [],
   "source": [
    "model = LinearRegression(maxIter=100)"
   ]
  },
  {
   "cell_type": "code",
   "execution_count": 78,
   "metadata": {},
   "outputs": [],
   "source": [
    "lrModel = model.fit(train)"
   ]
  },
  {
   "cell_type": "code",
   "execution_count": 79,
   "metadata": {},
   "outputs": [
    {
     "name": "stdout",
     "output_type": "stream",
     "text": [
      "Coefficients: [0.03598957965088354,0.3860661315644554,-0.0005654692699647865,-0.11784704431071193,-0.036734795329805794,-0.041828883663344925,-0.40464073593127525,0.015095558803912107,0.20769899709470827]\n",
      "\n",
      "Intercept: 0.18978600024481734\n"
     ]
    }
   ],
   "source": [
    "print(\"Coefficients: \" + str(lrModel.coefficients))\n",
    "print(\"\\nIntercept: \" + str(lrModel.intercept))"
   ]
  },
  {
   "cell_type": "code",
   "execution_count": 80,
   "metadata": {},
   "outputs": [
    {
     "name": "stdout",
     "output_type": "stream",
     "text": [
      "RMSE: 0.300867\n",
      "\n",
      "r2: 0.093373\n"
     ]
    }
   ],
   "source": [
    "trainSummary = lrModel.summary\n",
    "print(\"RMSE: %f\" % trainSummary.rootMeanSquaredError)\n",
    "print(\"\\nr2: %f\" % trainSummary.r2)"
   ]
  },
  {
   "cell_type": "code",
   "execution_count": 81,
   "metadata": {},
   "outputs": [],
   "source": [
    "predictions = lrModel.transform(test)"
   ]
  },
  {
   "cell_type": "code",
   "execution_count": 82,
   "metadata": {},
   "outputs": [
    {
     "name": "stdout",
     "output_type": "stream",
     "text": [
      "+--------------------+-----+--------------------+\n",
      "|            features|label|          prediction|\n",
      "+--------------------+-----+--------------------+\n",
      "|[-1.0,0.529999971...|  0.0| 0.10805932115099928|\n",
      "|[-1.0,0.529999971...|  0.0|-0.14208398430308977|\n",
      "|[-1.0,0.529999971...|  0.0|-0.00150338585027...|\n",
      "|[-1.0,0.579999983...|  0.0| 0.17747585330427118|\n",
      "|[-1.0,0.639999985...|  0.0| 0.02086395848546918|\n",
      "|[-1.0,0.670000016...|  0.0|-0.09803617886582472|\n",
      "|[-1.0,0.720000028...|  0.0|-0.06455748962786934|\n",
      "|[-1.0,0.779999971...|  0.0|0.049816182107487506|\n",
      "|[-1.0,1.0,1.0,0.0...|  0.0|  0.2698737019627987|\n",
      "|[-0.3300000131130...|  0.0| 0.15342139723723314|\n",
      "|[-0.3300000131130...|  0.0|0.004259578489254373|\n",
      "|[-0.3300000131130...|  0.0|-0.00457701452193...|\n",
      "|[-0.3300000131130...|  0.0| 0.27227873197999397|\n",
      "|[-0.3300000131130...|  1.0| 0.25928099146820877|\n",
      "|[1.0,0.5600000023...|  0.0| 0.11305840871357574|\n",
      "|[1.0,0.6700000166...|  0.0|  0.1160628797555846|\n",
      "|[1.0,0.6700000166...|  0.0|  0.1485303605955668|\n",
      "|[1.0,0.6899999976...|  1.0| 0.16834109230958738|\n",
      "|[1.0,0.6899999976...|  1.0| 0.16797754205600246|\n",
      "|[1.0,0.7799999713...|  0.0|   0.155976259985827|\n",
      "+--------------------+-----+--------------------+\n",
      "\n"
     ]
    }
   ],
   "source": [
    "predictions.show()"
   ]
  },
  {
   "cell_type": "code",
   "execution_count": null,
   "metadata": {},
   "outputs": [],
   "source": []
  }
 ],
 "metadata": {
  "kernelspec": {
   "display_name": "Python 3",
   "language": "python",
   "name": "python3"
  },
  "language_info": {
   "codemirror_mode": {
    "name": "ipython",
    "version": 3
   },
   "file_extension": ".py",
   "mimetype": "text/x-python",
   "name": "python",
   "nbconvert_exporter": "python",
   "pygments_lexer": "ipython3",
   "version": "3.8.2"
  }
 },
 "nbformat": 4,
 "nbformat_minor": 4
}

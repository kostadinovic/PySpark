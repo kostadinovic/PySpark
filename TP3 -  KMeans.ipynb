{
 "cells": [
  {
   "cell_type": "markdown",
   "metadata": {},
   "source": [
    "# TP3 KMeans\n",
    "\n",
    "\n",
    "Nemanja Kostadinovic"
   ]
  },
  {
   "cell_type": "markdown",
   "metadata": {},
   "source": [
    "### Exercice 1"
   ]
  },
  {
   "cell_type": "code",
   "execution_count": 1,
   "metadata": {},
   "outputs": [],
   "source": [
    "from pyspark.ml.clustering import KMeans\n",
    "from pyspark.ml.evaluation import ClusteringEvaluator\n",
    "from pyspark.ml.feature import VectorIndexer, VectorAssembler\n",
    "\n",
    "from pyspark.sql.functions import col"
   ]
  },
  {
   "cell_type": "code",
   "execution_count": 2,
   "metadata": {},
   "outputs": [],
   "source": [
    "dataset = spark.read.format(\"libsvm\").load(\"/usr/local/Cellar/apache-spark/3.0.1/libexec/data/mllib/sample_kmeans_data.txt\")"
   ]
  },
  {
   "cell_type": "code",
   "execution_count": 3,
   "metadata": {},
   "outputs": [
    {
     "data": {
      "text/plain": [
       "DataFrame[label: double, features: vector]"
      ]
     },
     "execution_count": 3,
     "metadata": {},
     "output_type": "execute_result"
    }
   ],
   "source": [
    "dataset"
   ]
  },
  {
   "cell_type": "code",
   "execution_count": 4,
   "metadata": {},
   "outputs": [],
   "source": [
    "kmeans = KMeans().setK(2).setSeed(1)\n",
    "model = kmeans.fit(dataset)"
   ]
  },
  {
   "cell_type": "code",
   "execution_count": 5,
   "metadata": {},
   "outputs": [],
   "source": [
    "predictions = model.transform(dataset)"
   ]
  },
  {
   "cell_type": "code",
   "execution_count": 6,
   "metadata": {},
   "outputs": [],
   "source": [
    "evaluator = ClusteringEvaluator()"
   ]
  },
  {
   "cell_type": "code",
   "execution_count": 7,
   "metadata": {},
   "outputs": [
    {
     "name": "stdout",
     "output_type": "stream",
     "text": [
      "Silhouette with squared euclidean distance = 0.9997530305375207\n"
     ]
    }
   ],
   "source": [
    "silhouette = evaluator.evaluate(predictions)\n",
    "print(\"Silhouette with squared euclidean distance = \" + str(silhouette))"
   ]
  },
  {
   "cell_type": "code",
   "execution_count": 8,
   "metadata": {},
   "outputs": [
    {
     "name": "stdout",
     "output_type": "stream",
     "text": [
      "Cluster Centers: \n",
      "[9.1 9.1 9.1]\n",
      "[0.1 0.1 0.1]\n"
     ]
    }
   ],
   "source": [
    "centers = model.clusterCenters()\n",
    "print(\"Cluster Centers: \")\n",
    "for center in centers:\n",
    "    print(center)"
   ]
  },
  {
   "cell_type": "code",
   "execution_count": 9,
   "metadata": {},
   "outputs": [
    {
     "name": "stdout",
     "output_type": "stream",
     "text": [
      "Silhouette score = 0.9997530305375207 for k=2\n",
      "Silhouette score = 0.9997530305375207 for k=3\n",
      "Silhouette score = 0.9997530305375207 for k=4\n",
      "Silhouette score = 0.9997530305375207 for k=5\n",
      "Silhouette score = 0.9997530305375207 for k=6\n",
      "Silhouette score = 0.9997530305375207 for k=7\n"
     ]
    }
   ],
   "source": [
    "for k in range(2,8):\n",
    "    kmeans = KMeans().setK(k).setSeed(1)\n",
    "    model = kmeans.fit(dataset)\n",
    "    predictions2 = model.transform(dataset)\n",
    "    silhouette = evaluator.evaluate(predictions)\n",
    "    print(\"Silhouette score = \" + str(silhouette)+\" for k=\"+str(k))"
   ]
  },
  {
   "cell_type": "code",
   "execution_count": 10,
   "metadata": {},
   "outputs": [
    {
     "name": "stdout",
     "output_type": "stream",
     "text": [
      "+-----+--------------------+\n",
      "|label|            features|\n",
      "+-----+--------------------+\n",
      "|  0.0|           (3,[],[])|\n",
      "|  1.0|(3,[0,1,2],[0.1,0...|\n",
      "|  2.0|(3,[0,1,2],[0.2,0...|\n",
      "|  3.0|(3,[0,1,2],[9.0,9...|\n",
      "|  4.0|(3,[0,1,2],[9.1,9...|\n",
      "|  5.0|(3,[0,1,2],[9.2,9...|\n",
      "+-----+--------------------+\n",
      "\n"
     ]
    }
   ],
   "source": [
    "dataset.show()"
   ]
  },
  {
   "cell_type": "markdown",
   "metadata": {},
   "source": [
    "## Exercice 2"
   ]
  },
  {
   "cell_type": "code",
   "execution_count": 12,
   "metadata": {},
   "outputs": [],
   "source": [
    "training = spark.read.option(\"header\", \"false\").option(\"sep\",\",\").csv(\"./data/3D_spatial_network.txt\")"
   ]
  },
  {
   "cell_type": "code",
   "execution_count": 13,
   "metadata": {},
   "outputs": [
    {
     "name": "stdout",
     "output_type": "stream",
     "text": [
      "+---------+---------+----------+----------------+\n",
      "|      _c0|      _c1|       _c2|             _c3|\n",
      "+---------+---------+----------+----------------+\n",
      "|144552912|9.3498486|56.7408757|17.0527715677876|\n",
      "|144552912|9.3501884|56.7406785| 17.614840244389|\n",
      "|144552912|9.3505485|56.7405445|  18.08353563951|\n",
      "|144552912|9.3508058|56.7404845|18.2794652530352|\n",
      "|144552912|9.3510534|56.7404863|18.4229736146099|\n",
      "|144552912|9.3514747|56.7405022|19.1248885940143|\n",
      "|144552912|9.3521273|56.7405585|19.5905926656897|\n",
      "|144552912|9.3524201|56.7405974|19.6217636955693|\n",
      "|144552912|9.3525839| 56.740629|19.6599309194984|\n",
      "|144552912|9.3527255|56.7406626|19.4906695590218|\n",
      "|144552912|9.3530759|56.7408002|19.2302682047961|\n",
      "|144552912| 9.353404|56.7409042|18.2332801889404|\n",
      "|144552912|9.3537287|56.7409995|17.6008423536018|\n",
      "|144552912| 9.354179|56.7410594|17.6443793914607|\n",
      "|144552912| 9.354581|56.7411511|18.3974824566501|\n",
      "|144552912|9.3547868|56.7412058|18.8645551315113|\n",
      "|144552912|9.3551147|56.7412693|18.2477297711073|\n",
      "|144552912|9.3553365|56.7412905|18.0201293139063|\n",
      "|144552912| 9.355581|56.7412975| 18.322544090848|\n",
      "| 42991631|8.5856624|57.0106364|32.0776406065856|\n",
      "+---------+---------+----------+----------------+\n",
      "only showing top 20 rows\n",
      "\n"
     ]
    }
   ],
   "source": [
    "training.show()"
   ]
  },
  {
   "cell_type": "code",
   "execution_count": 14,
   "metadata": {},
   "outputs": [
    {
     "name": "stdout",
     "output_type": "stream",
     "text": [
      "root\n",
      " |-- _c0: string (nullable = true)\n",
      " |-- _c1: string (nullable = true)\n",
      " |-- _c2: string (nullable = true)\n",
      " |-- _c3: string (nullable = true)\n",
      "\n"
     ]
    }
   ],
   "source": [
    "training.printSchema()"
   ]
  },
  {
   "cell_type": "code",
   "execution_count": 15,
   "metadata": {},
   "outputs": [],
   "source": [
    "training = training.select(*(col(c).cast(\"float\").alias(c) for c in training.columns))"
   ]
  },
  {
   "cell_type": "code",
   "execution_count": 16,
   "metadata": {},
   "outputs": [
    {
     "name": "stdout",
     "output_type": "stream",
     "text": [
      "+--------------------+\n",
      "|            features|\n",
      "+--------------------+\n",
      "|[1.44552912E8,9.3...|\n",
      "|[1.44552912E8,9.3...|\n",
      "|[1.44552912E8,9.3...|\n",
      "|[1.44552912E8,9.3...|\n",
      "|[1.44552912E8,9.3...|\n",
      "|[1.44552912E8,9.3...|\n",
      "+--------------------+\n",
      "only showing top 6 rows\n",
      "\n"
     ]
    }
   ],
   "source": [
    "assembler = VectorAssembler(inputCols = training.columns, outputCol = 'features')\n",
    "df = assembler.transform(training).select('features')\n",
    "df.show(6)"
   ]
  },
  {
   "cell_type": "code",
   "execution_count": 17,
   "metadata": {},
   "outputs": [
    {
     "data": {
      "text/plain": [
       "['features']"
      ]
     },
     "execution_count": 17,
     "metadata": {},
     "output_type": "execute_result"
    }
   ],
   "source": [
    "df.columns"
   ]
  },
  {
   "cell_type": "code",
   "execution_count": 18,
   "metadata": {},
   "outputs": [],
   "source": [
    "kmeans = KMeans().setK(2).setSeed(1)\n",
    "model = kmeans.fit(df)"
   ]
  },
  {
   "cell_type": "code",
   "execution_count": 19,
   "metadata": {},
   "outputs": [],
   "source": [
    "predictions = model.transform(df)"
   ]
  },
  {
   "cell_type": "code",
   "execution_count": 20,
   "metadata": {},
   "outputs": [],
   "source": [
    "evaluator = ClusteringEvaluator()"
   ]
  },
  {
   "cell_type": "code",
   "execution_count": 21,
   "metadata": {},
   "outputs": [
    {
     "name": "stdout",
     "output_type": "stream",
     "text": [
      "Silhouette with squared euclidean distance = 0.8412354480618449\n"
     ]
    }
   ],
   "source": [
    "silhouette = evaluator.evaluate(predictions)\n",
    "print(\"Silhouette with squared euclidean distance = \" + str(silhouette))"
   ]
  },
  {
   "cell_type": "code",
   "execution_count": 22,
   "metadata": {},
   "outputs": [
    {
     "name": "stdout",
     "output_type": "stream",
     "text": [
      "Cluster Centers: \n",
      "[1.15861486e+08 9.71354127e+00 5.70727889e+01 2.29653651e+01]\n",
      "[4.03179970e+07 9.79035850e+00 5.71188476e+01 1.96904355e+01]\n"
     ]
    }
   ],
   "source": [
    "centers = model.clusterCenters()\n",
    "print(\"Cluster Centers: \")\n",
    "for center in centers:\n",
    "    print(center)"
   ]
  },
  {
   "cell_type": "code",
   "execution_count": 23,
   "metadata": {},
   "outputs": [
    {
     "name": "stdout",
     "output_type": "stream",
     "text": [
      "Silhouette score = 0.8412354480618449 for k=2\n",
      "Silhouette score = 0.8412354480618449 for k=3\n",
      "Silhouette score = 0.8412354480618449 for k=4\n",
      "Silhouette score = 0.8412354480618449 for k=5\n",
      "Silhouette score = 0.8412354480618449 for k=6\n",
      "Silhouette score = 0.8412354480618449 for k=7\n"
     ]
    }
   ],
   "source": [
    "for k in range(2,8):\n",
    "    kmeans = KMeans().setK(k).setSeed(1)\n",
    "    model = kmeans.fit(dataset)\n",
    "    predictions2 = model.transform(dataset)\n",
    "    silhouette = evaluator.evaluate(predictions)\n",
    "    print(\"Silhouette score = \" + str(silhouette)+\" for k=\"+str(k))"
   ]
  },
  {
   "cell_type": "code",
   "execution_count": null,
   "metadata": {},
   "outputs": [],
   "source": []
  }
 ],
 "metadata": {
  "kernelspec": {
   "display_name": "Python 3",
   "language": "python",
   "name": "python3"
  },
  "language_info": {
   "codemirror_mode": {
    "name": "ipython",
    "version": 3
   },
   "file_extension": ".py",
   "mimetype": "text/x-python",
   "name": "python",
   "nbconvert_exporter": "python",
   "pygments_lexer": "ipython3",
   "version": "3.8.2"
  }
 },
 "nbformat": 4,
 "nbformat_minor": 4
}

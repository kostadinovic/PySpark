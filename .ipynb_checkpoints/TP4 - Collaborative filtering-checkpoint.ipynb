{
 "cells": [
  {
   "cell_type": "markdown",
   "metadata": {},
   "source": [
    "## Collaborative filtering\n",
    "\n",
    "Nemanja Kostadinovic"
   ]
  },
  {
   "cell_type": "code",
   "execution_count": 1,
   "metadata": {},
   "outputs": [],
   "source": [
    "from pyspark.ml.recommendation import ALS\n",
    "from pyspark.sql.functions import col\n",
    "from pyspark.ml.evaluation import RegressionEvaluator"
   ]
  },
  {
   "cell_type": "code",
   "execution_count": 2,
   "metadata": {},
   "outputs": [],
   "source": [
    "data = spark.read.csv('/usr/local/Cellar/apache-spark/3.0.1/libexec/data/mllib/als/test.data', sep=',')"
   ]
  },
  {
   "cell_type": "code",
   "execution_count": 3,
   "metadata": {},
   "outputs": [],
   "source": [
    "data = data.select(*(col(c).cast(\"int\").alias(c) for c in data.columns))"
   ]
  },
  {
   "cell_type": "code",
   "execution_count": 4,
   "metadata": {},
   "outputs": [],
   "source": [
    "data = data.selectExpr(\"_c0 as user\", \"_c1 as item\", \"_c2 as rate\")"
   ]
  },
  {
   "cell_type": "code",
   "execution_count": 5,
   "metadata": {},
   "outputs": [
    {
     "data": {
      "text/plain": [
       "[Row(user=1, item=1, rate=5),\n",
       " Row(user=1, item=2, rate=1),\n",
       " Row(user=1, item=3, rate=5),\n",
       " Row(user=1, item=4, rate=1),\n",
       " Row(user=2, item=1, rate=5),\n",
       " Row(user=2, item=2, rate=1),\n",
       " Row(user=2, item=3, rate=5),\n",
       " Row(user=2, item=4, rate=1),\n",
       " Row(user=3, item=1, rate=1),\n",
       " Row(user=3, item=2, rate=5),\n",
       " Row(user=3, item=3, rate=1),\n",
       " Row(user=3, item=4, rate=5),\n",
       " Row(user=4, item=1, rate=1),\n",
       " Row(user=4, item=2, rate=5),\n",
       " Row(user=4, item=3, rate=1),\n",
       " Row(user=4, item=4, rate=5)]"
      ]
     },
     "execution_count": 5,
     "metadata": {},
     "output_type": "execute_result"
    }
   ],
   "source": [
    "data.collect()"
   ]
  },
  {
   "cell_type": "code",
   "execution_count": 10,
   "metadata": {},
   "outputs": [],
   "source": [
    "model = ALS(\n",
    "         userCol=\"user\", \n",
    "         itemCol=\"item\",\n",
    "         ratingCol=\"rate\").fit(data)"
   ]
  },
  {
   "cell_type": "code",
   "execution_count": 11,
   "metadata": {},
   "outputs": [],
   "source": [
    "predictions = model.transform(data)"
   ]
  },
  {
   "cell_type": "code",
   "execution_count": 12,
   "metadata": {},
   "outputs": [],
   "source": [
    "predictions = predictions.sort('user','item')"
   ]
  },
  {
   "cell_type": "code",
   "execution_count": 13,
   "metadata": {
    "scrolled": true
   },
   "outputs": [
    {
     "data": {
      "text/plain": [
       "[Row(user=1, item=1, rate=5, prediction=4.847231864929199),\n",
       " Row(user=1, item=2, rate=1, prediction=1.0190666913986206),\n",
       " Row(user=1, item=3, rate=5, prediction=4.847231864929199),\n",
       " Row(user=1, item=4, rate=1, prediction=1.0190666913986206),\n",
       " Row(user=2, item=1, rate=5, prediction=4.847231864929199),\n",
       " Row(user=2, item=2, rate=1, prediction=1.0190666913986206),\n",
       " Row(user=2, item=3, rate=5, prediction=4.847231864929199),\n",
       " Row(user=2, item=4, rate=1, prediction=1.0190666913986206),\n",
       " Row(user=3, item=1, rate=1, prediction=1.0180920362472534),\n",
       " Row(user=3, item=2, rate=5, prediction=4.852105617523193),\n",
       " Row(user=3, item=3, rate=1, prediction=1.0180920362472534),\n",
       " Row(user=3, item=4, rate=5, prediction=4.852105617523193),\n",
       " Row(user=4, item=1, rate=1, prediction=1.0180920362472534),\n",
       " Row(user=4, item=2, rate=5, prediction=4.852105617523193),\n",
       " Row(user=4, item=3, rate=1, prediction=1.0180920362472534),\n",
       " Row(user=4, item=4, rate=5, prediction=4.852105617523193)]"
      ]
     },
     "execution_count": 13,
     "metadata": {},
     "output_type": "execute_result"
    }
   ],
   "source": [
    "predictions.collect()"
   ]
  },
  {
   "cell_type": "code",
   "execution_count": 14,
   "metadata": {},
   "outputs": [],
   "source": [
    "evaluator = RegressionEvaluator(\n",
    "           metricName=\"rmse\", \n",
    "           labelCol=\"rate\", \n",
    "           predictionCol=\"prediction\") "
   ]
  },
  {
   "cell_type": "code",
   "execution_count": 15,
   "metadata": {},
   "outputs": [
    {
     "name": "stdout",
     "output_type": "stream",
     "text": [
      "0.10712342409303925\n"
     ]
    }
   ],
   "source": [
    "RMSE = evaluator.evaluate(predictions)\n",
    "print(RMSE)"
   ]
  },
  {
   "cell_type": "code",
   "execution_count": 16,
   "metadata": {},
   "outputs": [],
   "source": [
    "users_pred = model.recommendForAllUsers(10)"
   ]
  },
  {
   "cell_type": "code",
   "execution_count": 17,
   "metadata": {},
   "outputs": [
    {
     "data": {
      "text/plain": [
       "[Row(user=1, recommendations=[Row(item=3, rating=4.847231864929199), Row(item=1, rating=4.847231864929199), Row(item=2, rating=1.0190666913986206), Row(item=4, rating=1.0190666913986206)]),\n",
       " Row(user=3, recommendations=[Row(item=2, rating=4.852105617523193), Row(item=4, rating=4.852105617523193), Row(item=1, rating=1.0180920362472534), Row(item=3, rating=1.0180920362472534)]),\n",
       " Row(user=4, recommendations=[Row(item=2, rating=4.852105617523193), Row(item=4, rating=4.852105617523193), Row(item=1, rating=1.0180920362472534), Row(item=3, rating=1.0180920362472534)]),\n",
       " Row(user=2, recommendations=[Row(item=3, rating=4.847231864929199), Row(item=1, rating=4.847231864929199), Row(item=2, rating=1.0190666913986206), Row(item=4, rating=1.0190666913986206)])]"
      ]
     },
     "execution_count": 17,
     "metadata": {},
     "output_type": "execute_result"
    }
   ],
   "source": [
    "users_pred.collect()"
   ]
  },
  {
   "cell_type": "code",
   "execution_count": 18,
   "metadata": {},
   "outputs": [
    {
     "data": {
      "text/plain": [
       "[Row(item=1, recommendations=[Row(user=1, rating=4.847231864929199), Row(user=2, rating=4.847231864929199), Row(user=3, rating=1.0180920362472534), Row(user=4, rating=1.0180920362472534)]),\n",
       " Row(item=3, recommendations=[Row(user=1, rating=4.847231864929199), Row(user=2, rating=4.847231864929199), Row(user=3, rating=1.0180920362472534), Row(user=4, rating=1.0180920362472534)]),\n",
       " Row(item=4, recommendations=[Row(user=3, rating=4.852105617523193), Row(user=4, rating=4.852105617523193), Row(user=1, rating=1.0190666913986206), Row(user=2, rating=1.0190666913986206)]),\n",
       " Row(item=2, recommendations=[Row(user=3, rating=4.852105617523193), Row(user=4, rating=4.852105617523193), Row(user=1, rating=1.0190666913986206), Row(user=2, rating=1.0190666913986206)])]"
      ]
     },
     "execution_count": 18,
     "metadata": {},
     "output_type": "execute_result"
    }
   ],
   "source": [
    "item_pred = model.recommendForAllItems(10)\n",
    "item_pred.collect()"
   ]
  },
  {
   "cell_type": "markdown",
   "metadata": {},
   "source": [
    "## FPGrowth "
   ]
  },
  {
   "cell_type": "code",
   "execution_count": 19,
   "metadata": {},
   "outputs": [],
   "source": [
    "from pyspark.ml.fpm import FPGrowth\n",
    "from pyspark.sql.functions import split"
   ]
  },
  {
   "cell_type": "code",
   "execution_count": 20,
   "metadata": {},
   "outputs": [],
   "source": [
    "data = spark.read.text('/usr/local/Cellar/apache-spark/3.0.1/libexec/data/mllib/sample_fpgrowth.txt')"
   ]
  },
  {
   "cell_type": "code",
   "execution_count": 21,
   "metadata": {},
   "outputs": [
    {
     "data": {
      "text/plain": [
       "pyspark.sql.dataframe.DataFrame"
      ]
     },
     "execution_count": 21,
     "metadata": {},
     "output_type": "execute_result"
    }
   ],
   "source": [
    "type(data)"
   ]
  },
  {
   "cell_type": "code",
   "execution_count": 22,
   "metadata": {},
   "outputs": [
    {
     "data": {
      "text/plain": [
       "[Row(value='r z h k p'),\n",
       " Row(value='z y x w v u t s'),\n",
       " Row(value='s x o n r'),\n",
       " Row(value='x z y m t s q e'),\n",
       " Row(value='z'),\n",
       " Row(value='x z y r q t p')]"
      ]
     },
     "execution_count": 22,
     "metadata": {},
     "output_type": "execute_result"
    }
   ],
   "source": [
    "data.collect()"
   ]
  },
  {
   "cell_type": "code",
   "execution_count": 23,
   "metadata": {},
   "outputs": [],
   "source": [
    "data = data.withColumn(\"value\", split(col(\"value\"), \" \").cast(\"array<string>\"))"
   ]
  },
  {
   "cell_type": "code",
   "execution_count": 24,
   "metadata": {},
   "outputs": [
    {
     "data": {
      "text/plain": [
       "[Row(value=['r', 'z', 'h', 'k', 'p']),\n",
       " Row(value=['z', 'y', 'x', 'w', 'v', 'u', 't', 's']),\n",
       " Row(value=['s', 'x', 'o', 'n', 'r']),\n",
       " Row(value=['x', 'z', 'y', 'm', 't', 's', 'q', 'e']),\n",
       " Row(value=['z']),\n",
       " Row(value=['x', 'z', 'y', 'r', 'q', 't', 'p'])]"
      ]
     },
     "execution_count": 24,
     "metadata": {},
     "output_type": "execute_result"
    }
   ],
   "source": [
    "data.collect()"
   ]
  },
  {
   "cell_type": "code",
   "execution_count": 25,
   "metadata": {},
   "outputs": [],
   "source": [
    "model = FPGrowth(itemsCol='value',minSupport=0.2, numPartitions=10).fit(data)"
   ]
  },
  {
   "cell_type": "code",
   "execution_count": 26,
   "metadata": {
    "scrolled": false
   },
   "outputs": [
    {
     "name": "stdout",
     "output_type": "stream",
     "text": [
      "+------------+----+\n",
      "|       items|freq|\n",
      "+------------+----+\n",
      "|         [z]|   5|\n",
      "|         [x]|   4|\n",
      "|      [x, z]|   3|\n",
      "|         [y]|   3|\n",
      "|      [y, x]|   3|\n",
      "|   [y, x, z]|   3|\n",
      "|      [y, z]|   3|\n",
      "|         [r]|   3|\n",
      "|      [r, x]|   2|\n",
      "|      [r, z]|   2|\n",
      "|         [s]|   3|\n",
      "|      [s, y]|   2|\n",
      "|   [s, y, x]|   2|\n",
      "|[s, y, x, z]|   2|\n",
      "|   [s, y, z]|   2|\n",
      "|      [s, x]|   3|\n",
      "|   [s, x, z]|   2|\n",
      "|      [s, z]|   2|\n",
      "|         [t]|   3|\n",
      "|      [t, y]|   3|\n",
      "+------------+----+\n",
      "only showing top 20 rows\n",
      "\n"
     ]
    }
   ],
   "source": [
    "model.freqItemsets.show()"
   ]
  },
  {
   "cell_type": "code",
   "execution_count": 27,
   "metadata": {},
   "outputs": [
    {
     "name": "stdout",
     "output_type": "stream",
     "text": [
      "+------------+----------+----------+----+\n",
      "|  antecedent|consequent|confidence|lift|\n",
      "+------------+----------+----------+----+\n",
      "|   [t, s, y]|       [x]|       1.0| 1.5|\n",
      "|   [t, s, y]|       [z]|       1.0| 1.2|\n",
      "|   [y, x, z]|       [t]|       1.0| 2.0|\n",
      "|         [y]|       [x]|       1.0| 1.5|\n",
      "|         [y]|       [z]|       1.0| 1.2|\n",
      "|         [y]|       [t]|       1.0| 2.0|\n",
      "|         [p]|       [r]|       1.0| 2.0|\n",
      "|         [p]|       [z]|       1.0| 1.2|\n",
      "|   [q, t, z]|       [y]|       1.0| 2.0|\n",
      "|   [q, t, z]|       [x]|       1.0| 1.5|\n",
      "|      [q, y]|       [x]|       1.0| 1.5|\n",
      "|      [q, y]|       [z]|       1.0| 1.2|\n",
      "|      [q, y]|       [t]|       1.0| 2.0|\n",
      "|   [t, s, x]|       [y]|       1.0| 2.0|\n",
      "|   [t, s, x]|       [z]|       1.0| 1.2|\n",
      "|[q, t, y, z]|       [x]|       1.0| 1.5|\n",
      "|[q, t, x, z]|       [y]|       1.0| 2.0|\n",
      "|      [q, x]|       [y]|       1.0| 2.0|\n",
      "|      [q, x]|       [t]|       1.0| 2.0|\n",
      "|      [q, x]|       [z]|       1.0| 1.2|\n",
      "+------------+----------+----------+----+\n",
      "only showing top 20 rows\n",
      "\n"
     ]
    }
   ],
   "source": [
    "model.associationRules.show()"
   ]
  },
  {
   "cell_type": "code",
   "execution_count": 28,
   "metadata": {},
   "outputs": [
    {
     "name": "stdout",
     "output_type": "stream",
     "text": [
      "+--------------------+----------+\n",
      "|               value|prediction|\n",
      "+--------------------+----------+\n",
      "|     [r, z, h, k, p]|        []|\n",
      "|[z, y, x, w, v, u...|        []|\n",
      "|     [s, x, o, n, r]|        []|\n",
      "|[x, z, y, m, t, s...|        []|\n",
      "|                 [z]|        []|\n",
      "|[x, z, y, r, q, t...|        []|\n",
      "+--------------------+----------+\n",
      "\n"
     ]
    }
   ],
   "source": [
    "model.transform(data).show()"
   ]
  },
  {
   "cell_type": "code",
   "execution_count": 29,
   "metadata": {},
   "outputs": [
    {
     "data": {
      "text/plain": [
       "'itemsCol: items column name (default: items, current: value)\\nminConfidence: Minimal confidence for generating Association Rule. [0.0, 1.0]. minConfidence will not affect the mining for frequent itemsets, but will affect the association rules generation. (default: 0.8)\\nminSupport: Minimal support level of the frequent pattern. [0.0, 1.0]. Any pattern that appears more than (minSupport * size-of-the-dataset) times will be output in the frequent itemsets. (default: 0.3, current: 0.2)\\nnumPartitions: Number of partitions (at least 1) used by parallel FP-growth. By default the param is not set, and partition number of the input dataset is used. (current: 10)\\npredictionCol: prediction column name. (default: prediction)'"
      ]
     },
     "execution_count": 29,
     "metadata": {},
     "output_type": "execute_result"
    }
   ],
   "source": [
    "model.explainParams()"
   ]
  },
  {
   "cell_type": "code",
   "execution_count": null,
   "metadata": {},
   "outputs": [],
   "source": []
  },
  {
   "cell_type": "code",
   "execution_count": null,
   "metadata": {},
   "outputs": [],
   "source": []
  }
 ],
 "metadata": {
  "kernelspec": {
   "display_name": "Python 3",
   "language": "python",
   "name": "python3"
  },
  "language_info": {
   "codemirror_mode": {
    "name": "ipython",
    "version": 3
   },
   "file_extension": ".py",
   "mimetype": "text/x-python",
   "name": "python",
   "nbconvert_exporter": "python",
   "pygments_lexer": "ipython3",
   "version": "3.8.2"
  }
 },
 "nbformat": 4,
 "nbformat_minor": 4
}
